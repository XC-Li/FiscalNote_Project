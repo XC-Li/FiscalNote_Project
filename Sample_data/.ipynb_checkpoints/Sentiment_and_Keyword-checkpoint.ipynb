{
 "cells": [
  {
   "cell_type": "markdown",
   "metadata": {},
   "source": [
    "# Keyword Extraction and Sentiment analysis"
   ]
  },
  {
   "cell_type": "code",
   "execution_count": 8,
   "metadata": {},
   "outputs": [],
   "source": [
    "# type-hint\n",
    "from typing import List"
   ]
  },
  {
   "cell_type": "code",
   "execution_count": 12,
   "metadata": {},
   "outputs": [],
   "source": [
    "import os\n",
    "def corpus_loader(folder_name: str) -> List[str]:\n",
    "    corpus = []\n",
    "    for file_name in os.listdir(folder_name):\n",
    "        with open(folder_name+file_name, encoding='utf-8') as f:\n",
    "            data = f.read()\n",
    "            corpus.append(data)\n",
    "    return corpus\n"
   ]
  },
  {
   "cell_type": "code",
   "execution_count": 13,
   "metadata": {},
   "outputs": [
    {
     "name": "stdout",
     "output_type": "stream",
     "text": [
      "5\n",
      "32\n"
     ]
    }
   ],
   "source": [
    "twitter_data = corpus_loader('./bernie_sanders_twitter/')\n",
    "senate_data = corpus_loader('./senate_19_02_11/')\n",
    "print(len(twitter_data))\n",
    "print(len(senate_data))"
   ]
  },
  {
   "cell_type": "code",
   "execution_count": 18,
   "metadata": {
    "collapsed": true
   },
   "outputs": [
    {
     "name": "stdout",
     "output_type": "stream",
     "text": [
      "$25,149.\n",
      "\n",
      "That's how much the Walton family of Walmart makes in a single MINUTE—more than the average Walmart worker makes in an entire year.\n",
      "\n",
      "Instead of austerity for working families and the poor, we need austerity for billionaires and massive corporations.\n",
      "{'neg': 0.074, 'neu': 0.926, 'pos': 0.0, 'compound': -0.4767}\n",
      "----------------------\n",
      "Americans should not die without the medication they need because drug companies want to make even bigger profits. I’m running for president because we need to take on the pharmaceutical industry's outrageous greed and lower drug prices in this country.\n",
      "{'neg': 0.16, 'neu': 0.69, 'pos': 0.149, 'compound': -0.1416}\n",
      "----------------------\n",
      "Our campaign is about creating a vibrant democracy with the highest voter turnout of any major country. We must restore the Voting Rights Act, overturn Citizens United, end voter suppression and gerrymandering, make Election Day a holiday and move to public funding of elections.\n",
      "{'neg': 0.0, 'neu': 0.736, 'pos': 0.264, 'compound': 0.9062}\n",
      "----------------------\n",
      "We are the wealthiest nation in the history of the world. We should not have 30 million Americans without any health insurance. We should not have an economy in which tens of millions of workers earn starvation wages.\n",
      "{'neg': 0.0, 'neu': 0.92, 'pos': 0.08, 'compound': 0.4939}\n",
      "----------------------\n",
      "We are spending $80 billion a year to lock up 2.2 million people, disproportionately African Americans, Latinos and Native Americans. We need real, comprehensive criminal justice reform. We must invest in jobs and education, not more jails and incarceration.\n",
      "{'neg': 0.078, 'neu': 0.799, 'pos': 0.123, 'compound': 0.25}\n",
      "----------------------\n"
     ]
    }
   ],
   "source": [
    "from nltk.sentiment.vader import SentimentIntensityAnalyzer\n",
    "from nltk import tokenize\n",
    "sid = SentimentIntensityAnalyzer()\n",
    "for i in twitter_data:\n",
    "    print(i)\n",
    "    print(sid.polarity_scores(i))\n",
    "    print('----------------------')"
   ]
  },
  {
   "cell_type": "code",
   "execution_count": null,
   "metadata": {},
   "outputs": [],
   "source": []
  }
 ],
 "metadata": {
  "kernelspec": {
   "display_name": "Python 3",
   "language": "python",
   "name": "python3"
  },
  "language_info": {
   "codemirror_mode": {
    "name": "ipython",
    "version": 3
   },
   "file_extension": ".py",
   "mimetype": "text/x-python",
   "name": "python",
   "nbconvert_exporter": "python",
   "pygments_lexer": "ipython3",
   "version": "3.6.7"
  }
 },
 "nbformat": 4,
 "nbformat_minor": 2
}
